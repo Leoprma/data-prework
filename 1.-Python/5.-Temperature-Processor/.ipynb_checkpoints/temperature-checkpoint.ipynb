{
 "cells": [
  {
   "cell_type": "markdown",
   "metadata": {},
   "source": [
    "<img src=\"https://bit.ly/2VnXWr2\" width=\"100\" align=\"left\">"
   ]
  },
  {
   "cell_type": "markdown",
   "metadata": {},
   "source": [
    "# Temperature Sensor\n",
    "\n",
    "There is a temperature sensor in the processor of your company's server. The company wants to analyze the data provided by the sensor to decide if they should change the cooling system for a better one. As changing the cooling system is expensive and you are an excellent data analyst, you can't make a decision without basis.\n",
    "\n",
    "## Tools\n",
    "You don't necessarily need to use all the tools. Maybe you opt to use some of them or completely different ones, they are given to help you shape the exercise. Programming exercises can be solved in many different ways.\n",
    "1. Data structures: **lists**\n",
    "2. Loops: **list comprehension**\n",
    "3. Functions: **min, max, print, len**\n",
    "4. Conditional statements: **if-elif-else**\n",
    "\n",
    "## Tasks\n",
    "The temperatures measured throughout the 24 hours of a day are:"
   ]
  },
  {
   "cell_type": "code",
   "execution_count": 1,
   "metadata": {},
   "outputs": [],
   "source": [
    "temperatures_C = [33, 66, 65, 0, 59, 60, 62, 64, 70, 76, 80, 81, 80, 83, 90, 79, 61, 53, 50, 49, 53, 48, 45, 39]"
   ]
  },
  {
   "cell_type": "markdown",
   "metadata": {},
   "source": [
    "The first element of the list is the temperature at 12am, the second element is the temperature at 1am, and so on. \n",
    "\n",
    "The company has decided that if one of the following events occurs, then the cooling system needs to be replaced for a new one to avoid damaging the processor.\n",
    "* More than 4 temperatures are greater than or equal to 70ºC.\n",
    "* Any temperature is above 80ºC.\n",
    "* The average temperature exceeds 65ºC.\n",
    "\n",
    "Follow the steps so that you can make the decision.\n",
    "\n",
    "#### 1. Find the minimum temperature of the day and store it in a variable."
   ]
  },
  {
   "cell_type": "code",
   "execution_count": 2,
   "metadata": {},
   "outputs": [],
   "source": [
    "min_temp=min(temperatures_C)"
   ]
  },
  {
   "cell_type": "markdown",
   "metadata": {},
   "source": [
    "#### 2. Find the maximum temperature of the day and store it in a variable."
   ]
  },
  {
   "cell_type": "code",
   "execution_count": 3,
   "metadata": {},
   "outputs": [],
   "source": [
    "max_temp=max(temperatures_C)"
   ]
  },
  {
   "cell_type": "markdown",
   "metadata": {},
   "source": [
    "#### 3. Create a list with the temperatures that are greater than or equal to 70ºC. Store it in a variable."
   ]
  },
  {
   "cell_type": "code",
   "execution_count": 4,
   "metadata": {},
   "outputs": [
    {
     "name": "stdout",
     "output_type": "stream",
     "text": [
      "Temperaturas acima de 70°C: [76, 80, 81, 80, 83, 90, 79]\n"
     ]
    }
   ],
   "source": [
    "temperature_above_70=[]\n",
    "\n",
    "for temperature in temperatures_C:\n",
    "    if temperature>70:\n",
    "        temperature_above_70.append(temperature)\n",
    "print(\"Temperaturas acima de 70°C:\", temperature_above_70)"
   ]
  },
  {
   "cell_type": "markdown",
   "metadata": {},
   "source": [
    "#### 4. Find the average temperature of the day and store it in a variable."
   ]
  },
  {
   "cell_type": "code",
   "execution_count": 5,
   "metadata": {},
   "outputs": [
    {
     "name": "stdout",
     "output_type": "stream",
     "text": [
      "Média de temperatura no dia: 60.25 °C\n"
     ]
    }
   ],
   "source": [
    "avg_temperature=sum(temperatures_C)/len(temperatures_C)\n",
    "print(\"Média de temperatura no dia:\",avg_temperature,\"°C\")"
   ]
  },
  {
   "cell_type": "markdown",
   "metadata": {},
   "source": [
    "#### 5. Imagine that there was a sensor failure at 3am and the data for that specific hour was not recorded. How would you estimate the missing value? Replace the current value of the list at 3am for an estimation. "
   ]
  },
  {
   "cell_type": "code",
   "execution_count": 6,
   "metadata": {},
   "outputs": [
    {
     "name": "stdout",
     "output_type": "stream",
     "text": [
      "Estimativa da temperatura às 3am 62.0 °C (estimado por interpolação)\n"
     ]
    }
   ],
   "source": [
    "temperatures_C[3]=(temperatures_C[2]+temperatures_C[4])/2\n",
    "print(\"Estimativa da temperatura às 3am\",temperatures_C[3],\"°C (estimado por interpolação)\")"
   ]
  },
  {
   "cell_type": "markdown",
   "metadata": {},
   "source": [
    "#### 6. Bonus: the maintenance staff is from the United States and does not understand the international metric system. Help them by converting the temperatures from Celsius to Fahrenheit.\n",
    "To know more about temperature conversion check this [link](https://en.wikipedia.org/wiki/Conversion_of_units_of_temperature).\n",
    "\n",
    "**Formula**: \n",
    "\n",
    "$F = 1.8 * C + 32$"
   ]
  },
  {
   "cell_type": "code",
   "execution_count": 7,
   "metadata": {},
   "outputs": [
    {
     "name": "stdout",
     "output_type": "stream",
     "text": [
      "Temperaturas em °F:  [91.4, 150.8, 149.0, 143.60000000000002, 138.2, 140.0, 143.60000000000002, 147.2, 158.0, 168.8, 176.0, 177.8, 176.0, 181.4, 194.0, 174.20000000000002, 141.8, 127.4, 122.0, 120.2, 127.4, 118.4, 113.0, 102.2]\n"
     ]
    }
   ],
   "source": [
    "temperatures_F=[]\n",
    "for temperature in temperatures_C:\n",
    "    temperatures_F.append(1.8*temperature+32)\n",
    "print(\"Temperaturas em °F: \",temperatures_F)"
   ]
  },
  {
   "cell_type": "markdown",
   "metadata": {},
   "source": [
    "#### 7. Make a decision!\n",
    "Now it's time to make a decision taking into account what you have seen until now. \n",
    "\n",
    "Remember that if one of the following events occurs, then the cooling system needs to be replaced for a new one to avoid damaging the processor.\n",
    "* More than 4 temperatures are greater than or equal to 70ºC.\n",
    "* Any temperature is above 80ºC.\n",
    "* The average temperature exceeds 65ºC.\n",
    "\n",
    "#### To make your decision, check if any of the three conditions above is met. You might need to use some of the variables you created in steps 1 to 6. Print a message to show if the cooling system needs to be changed or not."
   ]
  },
  {
   "cell_type": "code",
   "execution_count": 8,
   "metadata": {},
   "outputs": [
    {
     "name": "stdout",
     "output_type": "stream",
     "text": [
      "O sistema de resfriado precisa ser trocado\n"
     ]
    }
   ],
   "source": [
    "\n",
    "if (len(temperature_above_70)>4) | (avg_temperature>65) | (max_temp>80):\n",
    "    replace=\"Yes\"\n",
    "else:\n",
    "    replace=\"No\"\n",
    "    \n",
    "if replace==\"Yes\":\n",
    "    print(\"O sistema de resfriado precisa ser trocado\")\n",
    "else:\n",
    "    print(\"O sistema de resfriado não precisa ser trocado\")"
   ]
  },
  {
   "cell_type": "markdown",
   "metadata": {},
   "source": [
    "## Bonus\n",
    "\n",
    "The company has decided that the decision you made is not valid. They want you to analyze the data again but this time, the conditions that need to be met in order to change the cooling system are different.\n",
    "\n",
    "This time, if one of the following events occurs, then the cooling system needs to be replaced:\n",
    "* The temperature is greater than 70ºC during more than 4 consecutive hours.\n",
    "* Any temperature is above 80ºC.\n",
    "* The average temperature exceeds 65ºC.\n",
    "\n",
    "Follow the steps so that you can make the decision.\n",
    "\n",
    "#### 1. Create a list with the hours where the temperature is greater than 70ºC. Store it in a variable."
   ]
  },
  {
   "cell_type": "code",
   "execution_count": 9,
   "metadata": {},
   "outputs": [],
   "source": [
    "time_above_70=[]\n",
    "i=-1\n",
    "for temperature in temperatures_C:\n",
    "    i=i+1\n",
    "    if temperature>70:\n",
    "        time_above_70.append(i)"
   ]
  },
  {
   "cell_type": "markdown",
   "metadata": {},
   "source": [
    "#### 2. Check if the list you created in step 1 has more than 4 consecutive hours. "
   ]
  },
  {
   "cell_type": "code",
   "execution_count": 10,
   "metadata": {},
   "outputs": [],
   "source": [
    "consecutive_hours=0\n",
    "for j in range(0,len(time_above_70)-1):\n",
    "    if time_above_70[j]==(time_above_70[j+1]-1):\n",
    "        consecutive_hours=consecutive_hours+1\n",
    "    else:\n",
    "        consecutive_hours=0\n",
    "    if consecutive_hours>4:\n",
    "        break\n",
    "        \n",
    "if consecutive_hours!=0:\n",
    "    condition1_violated=\"Yes\"\n",
    "else:\n",
    "    condition1_violated=\"No\""
   ]
  },
  {
   "cell_type": "markdown",
   "metadata": {},
   "source": [
    "#### 3. Make the decision!\n",
    "To make your decision, check if any of the three conditions is met. Print a message to show if the cooling system needs to be changed or not."
   ]
  },
  {
   "cell_type": "code",
   "execution_count": 11,
   "metadata": {},
   "outputs": [
    {
     "name": "stdout",
     "output_type": "stream",
     "text": [
      "O sistema de resfriado precisa ser trocado\n"
     ]
    }
   ],
   "source": [
    "if (condition1_violated==\"Yes\") | (avg_temperature>65) | (max_temp>80):\n",
    "    replace=\"Yes\"\n",
    "else:\n",
    "    replace=\"No\"\n",
    "    \n",
    "if replace==\"Yes\":\n",
    "    print(\"O sistema de resfriado precisa ser trocado\")\n",
    "else:\n",
    "    print(\"O sistema de resfriado não precisa ser trocado\")"
   ]
  },
  {
   "cell_type": "markdown",
   "metadata": {},
   "source": [
    "#### 4. Find the average value of the temperature lists (ºC and ºF). What is the relation between both average values?"
   ]
  },
  {
   "cell_type": "code",
   "execution_count": 12,
   "metadata": {},
   "outputs": [
    {
     "name": "stdout",
     "output_type": "stream",
     "text": [
      "Média da temperatura em °F:  145.1\n",
      "A relação entre a média temperatura em °C e em °F é:  0.4152308752584425\n"
     ]
    }
   ],
   "source": [
    "avg_temperature_F=sum(temperatures_F)/len(temperatures_F)\n",
    "print(\"Média da temperatura em °F: \",avg_temperature_F)\n",
    "print(\"A relação entre a média temperatura em °C e em °F é: \",avg_temperature/avg_temperature_F)"
   ]
  },
  {
   "cell_type": "markdown",
   "metadata": {},
   "source": [
    "#### 5. Find the standard deviation of the temperature lists (ºC and ºF). What is the relation between both standard deviations?"
   ]
  },
  {
   "cell_type": "code",
   "execution_count": 13,
   "metadata": {},
   "outputs": [
    {
     "name": "stdout",
     "output_type": "stream",
     "text": [
      "O desvio padrão da temperatura em °C é:  14.85976110171358\n",
      "O desvio padrão da temperatura em °F é:  26.34027334710101\n",
      "A relação entre o desvio padrão da temperatura em °C e em °F é:  0.5641460476092225\n"
     ]
    }
   ],
   "source": [
    "j=0\n",
    "sum_quad_diff=0\n",
    "while j<len(temperatures_C):\n",
    "    sum_quad_diff=sum_quad_diff+(temperatures_C[j]-avg_temperature)**2\n",
    "    j=j+1\n",
    "std_temperature_C=(sum_quad_diff/j)**0.5\n",
    "\n",
    "sum_quad_diff=0\n",
    "j=0\n",
    "while j<len(temperatures_F):\n",
    "    sum_quad_diff=sum_quad_diff+(temperatures_F[j]-avg_temperature_F)**2\n",
    "    j=j+1\n",
    "std_temperature_F=(sum_quad_diff/j)**0.5\n",
    "\n",
    "print(\"O desvio padrão da temperatura em °C é: \",std_temperature_C)\n",
    "print(\"O desvio padrão da temperatura em °F é: \",std_temperature_F)\n",
    "print(\"A relação entre o desvio padrão da temperatura em °C e em °F é: \",std_temperature_C/std_temperature_F)"
   ]
  }
 ],
 "metadata": {
  "kernelspec": {
   "display_name": "Python 3",
   "language": "python",
   "name": "python3"
  },
  "language_info": {
   "codemirror_mode": {
    "name": "ipython",
    "version": 3
   },
   "file_extension": ".py",
   "mimetype": "text/x-python",
   "name": "python",
   "nbconvert_exporter": "python",
   "pygments_lexer": "ipython3",
   "version": "3.8.3"
  }
 },
 "nbformat": 4,
 "nbformat_minor": 2
}
